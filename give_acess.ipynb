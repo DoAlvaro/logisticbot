{
 "cells": [
  {
   "cell_type": "code",
   "execution_count": 1,
   "id": "6db79a80",
   "metadata": {
    "scrolled": false
   },
   "outputs": [],
   "source": [
    "# Подключаем библиотеки\n",
    "import googleapiclient.discovery\n",
    "import httplib2\n",
    "from oauth2client.service_account import ServiceAccountCredentials"
   ]
  },
  {
   "cell_type": "code",
   "execution_count": 2,
   "id": "592690ea",
   "metadata": {},
   "outputs": [],
   "source": [
    "CREDENTIALS_FILE = 'gs_credentials.json'  # Имя файла с закрытым ключом, вы должны подставить свое\n",
    "\n",
    "# Читаем ключи из файла\n",
    "credentials = ServiceAccountCredentials.from_json_keyfile_name(CREDENTIALS_FILE, ['https://www.googleapis.com/auth/spreadsheets', 'https://www.googleapis.com/auth/drive'])\n",
    "\n",
    "httpAuth = credentials.authorize(httplib2.Http()) # Авторизуемся в системе\n",
    "service = googleapiclient.discovery.build('sheets', 'v4', http = httpAuth) # Выбираем работу с таблицами и 4 версию API\n"
   ]
  },
  {
   "cell_type": "code",
   "execution_count": 3,
   "id": "050c80b6",
   "metadata": {},
   "outputs": [],
   "source": [
    "spreadsheetId = '1XMxDr6yRQQdkXWF_7OxHhi7DLS5KlqUBEqNLGmmyHMI' # сохраняем идентификатор файла"
   ]
  },
  {
   "cell_type": "code",
   "execution_count": 4,
   "id": "73e52a5c",
   "metadata": {},
   "outputs": [],
   "source": [
    "driveService = googleapiclient.discovery.build('drive', 'v3', http = httpAuth) # Выбираем работу с Google Drive и 3 версию API\n",
    "access = driveService.permissions().create(\n",
    "    fileId = spreadsheetId,\n",
    "    body = {'type': 'user', 'role': 'writer', 'emailAddress': 'tvojbata445@gmail.com'},  # Открываем доступ на редактирование\n",
    "    fields = 'id'\n",
    ").execute()"
   ]
  },
  {
   "cell_type": "code",
   "execution_count": null,
   "id": "877208f3",
   "metadata": {},
   "outputs": [],
   "source": []
  },
  {
   "cell_type": "code",
   "execution_count": null,
   "id": "00d0ed16",
   "metadata": {},
   "outputs": [],
   "source": []
  },
  {
   "cell_type": "code",
   "execution_count": null,
   "id": "e0001716",
   "metadata": {},
   "outputs": [],
   "source": []
  }
 ],
 "metadata": {
  "kernelspec": {
   "display_name": "Python 3 (ipykernel)",
   "language": "python",
   "name": "python3"
  },
  "language_info": {
   "codemirror_mode": {
    "name": "ipython",
    "version": 3
   },
   "file_extension": ".py",
   "mimetype": "text/x-python",
   "name": "python",
   "nbconvert_exporter": "python",
   "pygments_lexer": "ipython3",
   "version": "3.10.8"
  }
 },
 "nbformat": 4,
 "nbformat_minor": 5
}
